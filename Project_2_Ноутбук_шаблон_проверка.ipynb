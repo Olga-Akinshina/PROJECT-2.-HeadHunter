{
 "cells": [
  {
   "cell_type": "code",
   "execution_count": 92,
   "id": "1b75eaf8",
   "metadata": {},
   "outputs": [],
   "source": [
    "import psycopg2\n",
    "import pandas as pd\n"
   ]
  },
  {
   "cell_type": "code",
   "execution_count": 93,
   "id": "8897a440",
   "metadata": {},
   "outputs": [],
   "source": [
    "DBNAME = 'project_sql'\n",
    "USER = 'skillfactory'\n",
    "PASSWORD = 'cCkxxLVrDE8EbvjueeMedPKt'\n",
    "HOST = '84.201.134.129'\n",
    "PORT = 5432"
   ]
  },
  {
   "cell_type": "code",
   "execution_count": 94,
   "id": "3b40dce2",
   "metadata": {},
   "outputs": [],
   "source": [
    "connection = psycopg2.connect(\n",
    "   dbname=DBNAME,\n",
    "   user=USER,\n",
    "   host=HOST,\n",
    "   password=PASSWORD,\n",
    "   port=PORT\n",
    ")"
   ]
  },
  {
   "cell_type": "code",
   "execution_count": 95,
   "id": "98fe4bd2",
   "metadata": {},
   "outputs": [
    {
     "name": "stdout",
     "output_type": "stream",
     "text": [
      "3.1. Количество вакансий в базе:\n",
      "   total_vacancies\n",
      "0            49197\n",
      "Ответ: 49197 вакансий\n"
     ]
    },
    {
     "name": "stderr",
     "output_type": "stream",
     "text": [
      "C:\\Users\\akins\\AppData\\Local\\Temp\\ipykernel_13000\\1121738544.py:7: UserWarning: pandas only supports SQLAlchemy connectable (engine/connection) or database string URI or sqlite3 DBAPI2 connection. Other DBAPI2 objects are not tested. Please consider using SQLAlchemy.\n",
      "  result_3_1 = pd.read_sql_query(query_3_1, connection)\n"
     ]
    }
   ],
   "source": [
    "# Задание 3.1. Сколько вакансий есть в базе?\n",
    "query_3_1 = \"\"\"\n",
    "SELECT COUNT(*) as total_vacancies\n",
    "FROM vacancies;\n",
    "\"\"\"\n",
    "\n",
    "result_3_1 = pd.read_sql_query(query_3_1, connection)\n",
    "print(\"3.1. Количество вакансий в базе:\")\n",
    "print(result_3_1)\n",
    "print(f\"Ответ: {result_3_1.iloc[0]['total_vacancies']} вакансий\")\n"
   ]
  },
  {
   "cell_type": "code",
   "execution_count": 96,
   "id": "589dccb8",
   "metadata": {},
   "outputs": [
    {
     "name": "stdout",
     "output_type": "stream",
     "text": [
      "3.2. Количество работодателей:\n",
      "   total_employers\n",
      "0            23501\n",
      "Ответ: 23501 работодателей\n"
     ]
    },
    {
     "name": "stderr",
     "output_type": "stream",
     "text": [
      "C:\\Users\\akins\\AppData\\Local\\Temp\\ipykernel_13000\\2803318637.py:7: UserWarning: pandas only supports SQLAlchemy connectable (engine/connection) or database string URI or sqlite3 DBAPI2 connection. Other DBAPI2 objects are not tested. Please consider using SQLAlchemy.\n",
      "  result_3_2 = pd.read_sql_query(query_3_2, connection)\n"
     ]
    }
   ],
   "source": [
    "# Задание 3.2. Сколько работодателей?\n",
    "query_3_2 = \"\"\"\n",
    "SELECT COUNT(*) as total_employers\n",
    "FROM employers;\n",
    "\"\"\"\n",
    "\n",
    "result_3_2 = pd.read_sql_query(query_3_2, connection)\n",
    "print(\"3.2. Количество работодателей:\")\n",
    "print(result_3_2)\n",
    "print(f\"Ответ: {result_3_2.iloc[0]['total_employers']} работодателей\")\n"
   ]
  },
  {
   "cell_type": "code",
   "execution_count": 97,
   "id": "076590a2",
   "metadata": {},
   "outputs": [
    {
     "name": "stdout",
     "output_type": "stream",
     "text": [
      "3.3. Количество регионов:\n",
      "   total_areas\n",
      "0         1362\n",
      "Ответ: 1362 регионов\n"
     ]
    },
    {
     "name": "stderr",
     "output_type": "stream",
     "text": [
      "C:\\Users\\akins\\AppData\\Local\\Temp\\ipykernel_13000\\995873020.py:7: UserWarning: pandas only supports SQLAlchemy connectable (engine/connection) or database string URI or sqlite3 DBAPI2 connection. Other DBAPI2 objects are not tested. Please consider using SQLAlchemy.\n",
      "  result_3_3 = pd.read_sql_query(query_3_3, connection)\n"
     ]
    }
   ],
   "source": [
    "# Задание 3.3. Сколько регионов?\n",
    "query_3_3 = \"\"\"\n",
    "SELECT COUNT(*) as total_areas\n",
    "FROM areas;\n",
    "\"\"\"\n",
    "\n",
    "result_3_3 = pd.read_sql_query(query_3_3, connection)\n",
    "print(\"3.3. Количество регионов:\")\n",
    "print(result_3_3)\n",
    "print(f\"Ответ: {result_3_3.iloc[0]['total_areas']} регионов\")\n"
   ]
  },
  {
   "cell_type": "code",
   "execution_count": 98,
   "id": "5f7ba200",
   "metadata": {},
   "outputs": [
    {
     "name": "stdout",
     "output_type": "stream",
     "text": [
      "3.4. Количество сфер деятельности:\n",
      "   total_industries\n",
      "0               294\n",
      "Ответ: 294 сфер деятельности\n"
     ]
    },
    {
     "name": "stderr",
     "output_type": "stream",
     "text": [
      "C:\\Users\\akins\\AppData\\Local\\Temp\\ipykernel_13000\\4004968110.py:7: UserWarning: pandas only supports SQLAlchemy connectable (engine/connection) or database string URI or sqlite3 DBAPI2 connection. Other DBAPI2 objects are not tested. Please consider using SQLAlchemy.\n",
      "  result_3_4 = pd.read_sql_query(query_3_4, connection)\n"
     ]
    }
   ],
   "source": [
    "# Задание 3.4. Сколько сфер деятельности?\n",
    "query_3_4 = \"\"\"\n",
    "SELECT COUNT(*) as total_industries\n",
    "FROM industries;\n",
    "\"\"\"\n",
    "\n",
    "result_3_4 = pd.read_sql_query(query_3_4, connection)\n",
    "print(\"3.4. Количество сфер деятельности:\")\n",
    "print(result_3_4)\n",
    "print(f\"Ответ: {result_3_4.iloc[0]['total_industries']} сфер деятельности\")\n"
   ]
  },
  {
   "cell_type": "code",
   "execution_count": 99,
   "id": "10e183f1",
   "metadata": {},
   "outputs": [
    {
     "name": "stderr",
     "output_type": "stream",
     "text": [
      "C:\\Users\\akins\\AppData\\Local\\Temp\\ipykernel_13000\\1119163137.py:12: UserWarning: pandas only supports SQLAlchemy connectable (engine/connection) or database string URI or sqlite3 DBAPI2 connection. Other DBAPI2 objects are not tested. Please consider using SQLAlchemy.\n",
      "  result_4_1 = pd.read_sql_query(query_4_1, connection)\n"
     ]
    },
    {
     "name": "stdout",
     "output_type": "stream",
     "text": [
      "4.1. Количество вакансий в каждом регионе:\n",
      "              area   cnt\n",
      "0           Москва  5333\n",
      "1  Санкт-Петербург  2851\n",
      "2            Минск  2112\n",
      "3      Новосибирск  2006\n",
      "4           Алматы  1892\n",
      "5     Екатеринбург  1698\n",
      "6  Нижний Новгород  1670\n",
      "7           Казань  1415\n",
      "8        Краснодар  1301\n",
      "9           Самара  1144\n",
      "\n",
      "Всего регионов с вакансиями: 769\n",
      "Регионов без вакансий: 593\n"
     ]
    }
   ],
   "source": [
    "# Задание 4.1. Напишите запрос, который позволит узнать, сколько (cnt) вакансий в каждом регионе (area).\n",
    "query_4_1 = \"\"\"\n",
    "SELECT \n",
    "    a.name as area,\n",
    "    COUNT(v.id) as cnt\n",
    "FROM areas a\n",
    "LEFT JOIN vacancies v ON a.id = v.area_id\n",
    "GROUP BY a.id, a.name\n",
    "ORDER BY cnt DESC;\n",
    "\"\"\"\n",
    "\n",
    "result_4_1 = pd.read_sql_query(query_4_1, connection)\n",
    "print(\"4.1. Количество вакансий в каждом регионе:\")\n",
    "print(result_4_1.head(10))  # Показываем топ-10 регионов\n",
    "print(f\"\\nВсего регионов с вакансиями: {len(result_4_1[result_4_1['cnt'] > 0])}\")\n",
    "print(f\"Регионов без вакансий: {len(result_4_1[result_4_1['cnt'] == 0])}\")\n"
   ]
  },
  {
   "cell_type": "code",
   "execution_count": 100,
   "id": "ace18eb0",
   "metadata": {},
   "outputs": [
    {
     "name": "stdout",
     "output_type": "stream",
     "text": [
      "4.2. Количество вакансий с заполненной зарплатой:\n",
      "   vacancies_with_salary\n",
      "0                  24073\n",
      "Ответ: 24073 вакансий\n"
     ]
    },
    {
     "name": "stderr",
     "output_type": "stream",
     "text": [
      "C:\\Users\\akins\\AppData\\Local\\Temp\\ipykernel_13000\\3544661116.py:8: UserWarning: pandas only supports SQLAlchemy connectable (engine/connection) or database string URI or sqlite3 DBAPI2 connection. Other DBAPI2 objects are not tested. Please consider using SQLAlchemy.\n",
      "  result_4_2 = pd.read_sql_query(query_4_2, connection)\n"
     ]
    }
   ],
   "source": [
    "# Задание 4.2. У какого количества вакансий заполнено хотя бы одно из двух полей с зарплатой?\n",
    "query_4_2 = \"\"\"\n",
    "SELECT COUNT(*) as vacancies_with_salary\n",
    "FROM vacancies\n",
    "WHERE salary_from IS NOT NULL OR salary_to IS NOT NULL;\n",
    "\"\"\"\n",
    "\n",
    "result_4_2 = pd.read_sql_query(query_4_2, connection)\n",
    "print(\"4.2. Количество вакансий с заполненной зарплатой:\")\n",
    "print(result_4_2)\n",
    "print(f\"Ответ: {result_4_2.iloc[0]['vacancies_with_salary']} вакансий\")\n"
   ]
  },
  {
   "cell_type": "code",
   "execution_count": 101,
   "id": "8c09c05c",
   "metadata": {},
   "outputs": [
    {
     "name": "stdout",
     "output_type": "stream",
     "text": [
      "4.3. Средние значения зарплатной вилки:\n",
      "   avg_salary_from  avg_salary_to\n",
      "0          71065.0       110537.0\n",
      "Ответ: Средняя нижняя граница: 71065.0 руб.\n",
      "Средняя верхняя граница: 110537.0 руб.\n"
     ]
    },
    {
     "name": "stderr",
     "output_type": "stream",
     "text": [
      "C:\\Users\\akins\\AppData\\Local\\Temp\\ipykernel_13000\\2499721922.py:10: UserWarning: pandas only supports SQLAlchemy connectable (engine/connection) or database string URI or sqlite3 DBAPI2 connection. Other DBAPI2 objects are not tested. Please consider using SQLAlchemy.\n",
      "  result_4_3 = pd.read_sql_query(query_7, connection)\n"
     ]
    }
   ],
   "source": [
    "# Задание 4.3. Найдите средние значения для нижней и верхней границы зарплатной вилки. Округлите значения до целого числа.\n",
    "query_4_3 = \"\"\"\n",
    "SELECT \n",
    "    ROUND(AVG(salary_from)) as avg_salary_from,\n",
    "    ROUND(AVG(salary_to)) as avg_salary_to\n",
    "FROM vacancies\n",
    "WHERE salary_from IS NOT NULL OR salary_to IS NOT NULL;\n",
    "\"\"\"\n",
    "\n",
    "result_4_3 = pd.read_sql_query(query_7, connection)\n",
    "print(\"4.3. Средние значения зарплатной вилки:\")\n",
    "print(result_4_3)\n",
    "print(f\"Ответ: Средняя нижняя граница: {result_4_3.iloc[0]['avg_salary_from']} руб.\")\n",
    "print(f\"Средняя верхняя граница: {result_4_3.iloc[0]['avg_salary_to']} руб.\")\n"
   ]
  },
  {
   "cell_type": "code",
   "execution_count": 102,
   "id": "d323cf53",
   "metadata": {},
   "outputs": [
    {
     "name": "stderr",
     "output_type": "stream",
     "text": [
      "C:\\Users\\akins\\AppData\\Local\\Temp\\ipykernel_13000\\2096578324.py:12: UserWarning: pandas only supports SQLAlchemy connectable (engine/connection) or database string URI or sqlite3 DBAPI2 connection. Other DBAPI2 objects are not tested. Please consider using SQLAlchemy.\n",
      "  result_4_4 = pd.read_sql_query(query_4_4, connection)\n"
     ]
    },
    {
     "name": "stdout",
     "output_type": "stream",
     "text": [
      "4.4. Количество вакансий по сочетанию графика работы и типа трудоустройства:\n",
      "            schedule           employment    cnt\n",
      "0        Полный день     Полная занятость  35367\n",
      "1   Удаленная работа     Полная занятость   7802\n",
      "2      Гибкий график     Полная занятость   1593\n",
      "3   Удаленная работа  Частичная занятость   1312\n",
      "4     Сменный график     Полная занятость    940\n",
      "5        Полный день           Стажировка    569\n",
      "6     Вахтовый метод     Полная занятость    367\n",
      "7        Полный день  Частичная занятость    347\n",
      "8      Гибкий график  Частичная занятость    312\n",
      "9        Полный день     Проектная работа    141\n",
      "10  Удаленная работа     Проектная работа    133\n",
      "11     Гибкий график           Стажировка    116\n",
      "12    Сменный график  Частичная занятость    101\n",
      "13  Удаленная работа           Стажировка     64\n",
      "14     Гибкий график     Проектная работа     18\n",
      "15    Сменный график           Стажировка     12\n",
      "16    Вахтовый метод     Проектная работа      2\n",
      "17    Сменный график     Проектная работа      1\n",
      "\n",
      "Вторая по популярности пара: Удаленная работа + Полная занятость (7802 вакансий)\n"
     ]
    }
   ],
   "source": [
    "# Задание 4.4. Напишите запрос, который выведет количество вакансий для каждого сочетания типа рабочего графика (schedule) и типа трудоустройства (employment), используемого в вакансиях. Какая пара находится на втором месте по популярности?\n",
    "query_4_4 = \"\"\"\n",
    "SELECT \n",
    "    schedule,\n",
    "    employment,\n",
    "    COUNT(*) as cnt\n",
    "FROM vacancies\n",
    "GROUP BY schedule, employment\n",
    "ORDER BY cnt DESC;\n",
    "\"\"\"\n",
    "\n",
    "result_4_4 = pd.read_sql_query(query_4_4, connection)\n",
    "print(\"4.4. Количество вакансий по сочетанию графика работы и типа трудоустройства:\")\n",
    "print(result_4_4)\n",
    "print(f\"\\nВторая по популярности пара: {result_4_4.iloc[1]['schedule']} + {result_4_4.iloc[1]['employment']} ({result_4_4.iloc[1]['cnt']} вакансий)\")\n"
   ]
  },
  {
   "cell_type": "code",
   "execution_count": 103,
   "id": "35a886d8",
   "metadata": {},
   "outputs": [
    {
     "name": "stderr",
     "output_type": "stream",
     "text": [
      "C:\\Users\\akins\\AppData\\Local\\Temp\\ipykernel_13000\\836887490.py:11: UserWarning: pandas only supports SQLAlchemy connectable (engine/connection) or database string URI or sqlite3 DBAPI2 connection. Other DBAPI2 objects are not tested. Please consider using SQLAlchemy.\n",
      "  result_4_5 = pd.read_sql_query(query_4_5, connection)\n"
     ]
    },
    {
     "name": "stdout",
     "output_type": "stream",
     "text": [
      "4.5. Требуемый опыт работы в порядке возрастания количества вакансий:\n",
      "           experience    cnt\n",
      "0         Более 6 лет   1337\n",
      "1           Нет опыта   7197\n",
      "2       От 3 до 6 лет  14511\n",
      "3  От 1 года до 3 лет  26152\n"
     ]
    }
   ],
   "source": [
    "# Задание 4.5. Напишите запрос, выводящий значения поля Требуемый опыт работы (experience) в порядке возрастания количества вакансий, в которых указан данный вариант опыта.\n",
    "query_4_5 = \"\"\"\n",
    "SELECT \n",
    "    experience,\n",
    "    COUNT(*) as cnt\n",
    "FROM vacancies\n",
    "GROUP BY experience\n",
    "ORDER BY cnt ASC;\n",
    "\"\"\"\n",
    "\n",
    "result_4_5 = pd.read_sql_query(query_4_5, connection)\n",
    "print(\"4.5. Требуемый опыт работы в порядке возрастания количества вакансий:\")\n",
    "print(result_4_5)\n"
   ]
  },
  {
   "cell_type": "code",
   "execution_count": 104,
   "id": "98761528",
   "metadata": {},
   "outputs": [
    {
     "name": "stderr",
     "output_type": "stream",
     "text": [
      "C:\\Users\\akins\\AppData\\Local\\Temp\\ipykernel_13000\\3898817147.py:13: UserWarning: pandas only supports SQLAlchemy connectable (engine/connection) or database string URI or sqlite3 DBAPI2 connection. Other DBAPI2 objects are not tested. Please consider using SQLAlchemy.\n",
      "  result_5_1 = pd.read_sql_query(query_5_1, connection)\n"
     ]
    },
    {
     "name": "stdout",
     "output_type": "stream",
     "text": [
      "5.1. Топ-5 работодателей по количеству вакансий:\n",
      "   employer_name  vacancy_count\n",
      "0         Яндекс           1933\n",
      "1     Ростелеком            491\n",
      "2       Тинькофф            444\n",
      "3           СБЕР            428\n",
      "4  Газпром нефть            331\n",
      "\n",
      "1-е место: Яндекс (1933 вакансий)\n",
      "5-е место: Газпром нефть (331 вакансий)\n"
     ]
    }
   ],
   "source": [
    "# Задание 5.1. Напишите запрос, который позволит узнать, какие работодатели находятся на первом и пятом месте по количеству вакансий.\n",
    "query_5_1 = \"\"\"\n",
    "SELECT \n",
    "    e.name as employer_name,\n",
    "    COUNT(v.id) as vacancy_count\n",
    "FROM employers e\n",
    "LEFT JOIN vacancies v ON e.id = v.employer_id\n",
    "GROUP BY e.id, e.name\n",
    "ORDER BY vacancy_count DESC\n",
    "LIMIT 5;\n",
    "\"\"\"\n",
    "\n",
    "result_5_1 = pd.read_sql_query(query_5_1, connection)\n",
    "print(\"5.1. Топ-5 работодателей по количеству вакансий:\")\n",
    "print(result_5_1)\n",
    "print(f\"\\n1-е место: {result_5_1.iloc[0]['employer_name']} ({result_5_1.iloc[0]['vacancy_count']} вакансий)\")\n",
    "print(f\"5-е место: {result_5_1.iloc[4]['employer_name']} ({result_5_1.iloc[4]['vacancy_count']} вакансий)\")\n"
   ]
  },
  {
   "cell_type": "code",
   "execution_count": 105,
   "id": "be44948c",
   "metadata": {},
   "outputs": [
    {
     "name": "stderr",
     "output_type": "stream",
     "text": [
      "C:\\Users\\akins\\AppData\\Local\\Temp\\ipykernel_13000\\636095315.py:28: UserWarning: pandas only supports SQLAlchemy connectable (engine/connection) or database string URI or sqlite3 DBAPI2 connection. Other DBAPI2 objects are not tested. Please consider using SQLAlchemy.\n",
      "  result_5_2 = pd.read_sql_query(query_5_2, connection)\n"
     ]
    },
    {
     "name": "stdout",
     "output_type": "stream",
     "text": [
      "5.2. Количество работодателей и вакансий по регионам:\n",
      "               area  employers_count  vacancies_count\n",
      "0            Москва             5864             5333\n",
      "1   Санкт-Петербург             2217             2851\n",
      "2             Минск             1115             2112\n",
      "3       Новосибирск              573             2006\n",
      "4            Алматы              721             1892\n",
      "5      Екатеринбург              609             1698\n",
      "6   Нижний Новгород              426             1670\n",
      "7            Казань              480             1415\n",
      "8         Краснодар              409             1301\n",
      "9            Самара              315             1144\n",
      "10   Ростов-на-Дону              335             1131\n",
      "11          Воронеж              292             1063\n",
      "\n",
      "Регион без вакансий с наибольшим количеством работодателей:\n",
      "Россия - 410 работодателей\n"
     ]
    }
   ],
   "source": [
    "# Задание 5.2. Напишите запрос, который для каждого региона выведет количество работодателей и вакансий в нём. Среди регионов, в которых нет вакансий, найдите тот, в котором наибольшее количество работодателей.\n",
    "query_5_2 = \"\"\"\n",
    "WITH employers_count_per_area AS (\n",
    "    SELECT \n",
    "        area,\n",
    "        COUNT(DISTINCT id) AS employers_count\n",
    "    FROM employers\n",
    "    GROUP BY area\n",
    "),\n",
    "vacancies_count_per_area AS (\n",
    "    SELECT \n",
    "        area_id,\n",
    "        COUNT(id) AS vacancies_count\n",
    "    FROM vacancies\n",
    "    GROUP BY area_id\n",
    ")\n",
    "\n",
    "SELECT \n",
    "    a.name AS area,\n",
    "    COALESCE(ec.employers_count, 0) AS employers_count,\n",
    "    COALESCE(vc.vacancies_count, 0) AS vacancies_count\n",
    "FROM areas a\n",
    "LEFT JOIN employers_count_per_area ec ON ec.area = a.id\n",
    "LEFT JOIN vacancies_count_per_area vc ON vc.area_id = a.id\n",
    "ORDER BY vacancies_count DESC, employers_count DESC;\n",
    "\"\"\"\n",
    "\n",
    "result_5_2 = pd.read_sql_query(query_5_2, connection)\n",
    "print(\"5.2. Количество работодателей и вакансий по регионам:\")\n",
    "print(result_5_2.head(12))\n",
    "\n",
    "# Найдем регион без вакансий с наибольшим количеством работодателей\n",
    "regions_without_vacancies = result_5_2[result_5_2['vacancies_count'] == 0]\n",
    "if len(regions_without_vacancies) > 0:\n",
    "    max_employers_region = regions_without_vacancies.loc[regions_without_vacancies['employers_count'].idxmax()]\n",
    "    print(f\"\\nРегион без вакансий с наибольшим количеством работодателей:\")\n",
    "    print(f\"{max_employers_region['area']} - {max_employers_region['employers_count']} работодателей\")\n",
    "else:\n",
    "    print(\"\\nВсе регионы имеют вакансии\")"
   ]
  },
  {
   "cell_type": "code",
   "execution_count": 106,
   "id": "e3d02ec4",
   "metadata": {},
   "outputs": [
    {
     "name": "stderr",
     "output_type": "stream",
     "text": [
      "C:\\Users\\akins\\AppData\\Local\\Temp\\ipykernel_13000\\46306375.py:12: UserWarning: pandas only supports SQLAlchemy connectable (engine/connection) or database string URI or sqlite3 DBAPI2 connection. Other DBAPI2 objects are not tested. Please consider using SQLAlchemy.\n",
      "  result_5_3 = pd.read_sql_query(query_5_3, connection)\n"
     ]
    },
    {
     "name": "stdout",
     "output_type": "stream",
     "text": [
      "5.3. Количество регионов для каждого работодателя:\n",
      "                employer_name  regions_count\n",
      "0                      Яндекс            181\n",
      "1                  Ростелеком            152\n",
      "2                  Спецремонт            116\n",
      "3      Поляков Денис Иванович             88\n",
      "4                   ООО ЕФИН              71\n",
      "5                  Совкомбанк             63\n",
      "6                         МТС             55\n",
      "7  ЭФКО, Управляющая компания             49\n",
      "8                        КРОН             48\n",
      "9                Почта России             48\n",
      "\n",
      "Максимальное количество регионов: 181\n",
      "Работодатель с максимальным количеством регионов: Яндекс\n"
     ]
    }
   ],
   "source": [
    "# Задание 5.3. Для каждого работодателя посчитайте количество регионов, в которых он публикует свои вакансии. Выберите максимальное значение из получившегося списка.\n",
    "query_5_3 = \"\"\"\n",
    "SELECT \n",
    "    e.name as employer_name,\n",
    "    COUNT(DISTINCT v.area_id) as regions_count\n",
    "FROM employers e\n",
    "LEFT JOIN vacancies v ON e.id = v.employer_id\n",
    "GROUP BY e.id, e.name\n",
    "ORDER BY regions_count DESC;\n",
    "\"\"\"\n",
    "\n",
    "result_5_3 = pd.read_sql_query(query_5_3, connection)\n",
    "print(\"5.3. Количество регионов для каждого работодателя:\")\n",
    "print(result_5_3.head(10))\n",
    "print(f\"\\nМаксимальное количество регионов: {result_5_3.iloc[0]['regions_count']}\")\n",
    "print(f\"Работодатель с максимальным количеством регионов: {result_5_3.iloc[0]['employer_name']}\")\n"
   ]
  },
  {
   "cell_type": "code",
   "execution_count": 107,
   "id": "aa77fcae",
   "metadata": {},
   "outputs": [
    {
     "name": "stdout",
     "output_type": "stream",
     "text": [
      "5.4. Количество работодателей без указанной сферы деятельности:\n",
      "   employers_without_industry\n",
      "0                        8419\n",
      "Ответ: 8419 работодателей\n"
     ]
    },
    {
     "name": "stderr",
     "output_type": "stream",
     "text": [
      "C:\\Users\\akins\\AppData\\Local\\Temp\\ipykernel_13000\\255560940.py:9: UserWarning: pandas only supports SQLAlchemy connectable (engine/connection) or database string URI or sqlite3 DBAPI2 connection. Other DBAPI2 objects are not tested. Please consider using SQLAlchemy.\n",
      "  result_5_4 = pd.read_sql_query(query_5_4, connection)\n"
     ]
    }
   ],
   "source": [
    "# Задание 5.4. Напишите запрос для подсчёта количества работодателей, у которых не указана сфера деятельности.\n",
    "query_5_4 = \"\"\"\n",
    "SELECT COUNT(*) as employers_without_industry\n",
    "FROM employers e\n",
    "LEFT JOIN employers_industries ei ON e.id = ei.employer_id\n",
    "WHERE ei.employer_id IS NULL;\n",
    "\"\"\"\n",
    "\n",
    "result_5_4 = pd.read_sql_query(query_5_4, connection)\n",
    "print(\"5.4. Количество работодателей без указанной сферы деятельности:\")\n",
    "print(result_5_4)\n",
    "print(f\"Ответ: {result_5_4.iloc[0]['employers_without_industry']} работодателей\")\n"
   ]
  },
  {
   "cell_type": "code",
   "execution_count": 108,
   "id": "1ee802a6",
   "metadata": {},
   "outputs": [
    {
     "name": "stdout",
     "output_type": "stream",
     "text": [
      "5.5. Компании с четырьмя сферами деятельности (алфавитный порядок):\n",
      "   company_name  industries_count\n",
      "0  101 Интернет                 4\n",
      "1      21vek.by                 4\n",
      "2          2ГИС                 4\n",
      "Ответ: 2ГИС\n"
     ]
    },
    {
     "name": "stderr",
     "output_type": "stream",
     "text": [
      "C:\\Users\\akins\\AppData\\Local\\Temp\\ipykernel_13000\\1877182818.py:14: UserWarning: pandas only supports SQLAlchemy connectable (engine/connection) or database string URI or sqlite3 DBAPI2 connection. Other DBAPI2 objects are not tested. Please consider using SQLAlchemy.\n",
      "  result_5_5 = pd.read_sql_query(query_5_5, connection)\n"
     ]
    }
   ],
   "source": [
    "# Задание 5.5. Напишите запрос, чтобы узнать название компании, находящейся на третьем месте в алфавитном списке (по названию) компаний, у которых указано четыре сферы деятельности.\n",
    "query_5_5 = \"\"\"\n",
    "SELECT \n",
    "    e.name as company_name,\n",
    "    COUNT(ei.industry_id) as industries_count\n",
    "FROM employers e\n",
    "INNER JOIN employers_industries ei ON e.id = ei.employer_id\n",
    "GROUP BY e.id, e.name\n",
    "HAVING COUNT(ei.industry_id) = 4\n",
    "ORDER BY e.name\n",
    "LIMIT 3;\n",
    "\"\"\"\n",
    "\n",
    "result_5_5 = pd.read_sql_query(query_5_5, connection)\n",
    "print(\"5.5. Компании с четырьмя сферами деятельности (алфавитный порядок):\")\n",
    "print(result_5_5)\n",
    "if len(result_5_5) >= 3:\n",
    "    print(f\"Ответ: {result_5_5.iloc[2]['company_name']}\")\n",
    "else:\n",
    "    print(\"Недостаточно компаний с четырьмя сферами деятельности\")\n"
   ]
  },
  {
   "cell_type": "code",
   "execution_count": 109,
   "id": "7791f919",
   "metadata": {},
   "outputs": [
    {
     "name": "stdout",
     "output_type": "stream",
     "text": [
      "5.6. Количество работодателей в сфере 'Разработка программного обеспечения':\n",
      "   employers_count\n",
      "0             3553\n",
      "Ответ: 3553 работодателей\n"
     ]
    },
    {
     "name": "stderr",
     "output_type": "stream",
     "text": [
      "C:\\Users\\akins\\AppData\\Local\\Temp\\ipykernel_13000\\1815049731.py:9: UserWarning: pandas only supports SQLAlchemy connectable (engine/connection) or database string URI or sqlite3 DBAPI2 connection. Other DBAPI2 objects are not tested. Please consider using SQLAlchemy.\n",
      "  result_5_6 = pd.read_sql_query(query_5_6, connection)\n"
     ]
    }
   ],
   "source": [
    "# Задание 5.6. С помощью запроса выясните, у какого количества работодателей в качестве сферы деятельности указана «Разработка программного обеспечения».\n",
    "query_5_6 = \"\"\"\n",
    "SELECT COUNT(DISTINCT ei.employer_id) as employers_count\n",
    "FROM employers_industries ei\n",
    "INNER JOIN industries i ON ei.industry_id = i.id\n",
    "WHERE i.name = 'Разработка программного обеспечения';\n",
    "\"\"\"\n",
    "\n",
    "result_5_6 = pd.read_sql_query(query_5_6, connection)\n",
    "print(\"5.6. Количество работодателей в сфере 'Разработка программного обеспечения':\")\n",
    "print(result_5_6)\n",
    "print(f\"Ответ: {result_5_6.iloc[0]['employers_count']} работодателей\")\n"
   ]
  },
  {
   "cell_type": "code",
   "execution_count": 110,
   "id": "94a8babf",
   "metadata": {},
   "outputs": [
    {
     "name": "stderr",
     "output_type": "stream",
     "text": [
      "C:\\Users\\akins\\AppData\\Local\\Temp\\ipykernel_13000\\2243848697.py:31: UserWarning: pandas only supports SQLAlchemy connectable (engine/connection) or database string URI or sqlite3 DBAPI2 connection. Other DBAPI2 objects are not tested. Please consider using SQLAlchemy.\n",
      "  result_5_7 = pd.read_sql_query(query_5_7, connection)\n"
     ]
    },
    {
     "name": "stdout",
     "output_type": "stream",
     "text": [
      "5.7. Вакансии Яндекса в городах-миллионниках:\n",
      "               area  vacancy_count\n",
      "0            Москва           54.0\n",
      "1   Санкт-Петербург           42.0\n",
      "2      Екатеринбург           39.0\n",
      "3   Нижний Новгород           36.0\n",
      "4       Новосибирск           35.0\n",
      "5           Воронеж           32.0\n",
      "6         Краснодар           30.0\n",
      "7            Самара           26.0\n",
      "8               Уфа           26.0\n",
      "9            Казань           25.0\n",
      "10            Пермь           25.0\n",
      "11   Ростов-на-Дону           25.0\n",
      "12        Волгоград           24.0\n",
      "13       Красноярск           23.0\n",
      "14        Челябинск           22.0\n",
      "15             Омск           21.0\n",
      "16            Total          485.0\n",
      "\n",
      "Количество строк в выборке: 17\n",
      "Общее количество вакансий (Total): 485.0\n"
     ]
    }
   ],
   "source": [
    "# Задание 5.7. Для компании «Яндекс» выведите список регионов-миллионников, в которых представлены вакансии компании, вместе с количеством вакансий в этих регионах. Также добавьте строку Total с общим количеством вакансий компании, собранных в этой таблице.\n",
    "query_5_7 = \"\"\"\n",
    "WITH million_cities AS (\n",
    "    SELECT name FROM areas \n",
    "    WHERE name IN (\n",
    "        'Москва', 'Санкт-Петербург', 'Новосибирск', 'Екатеринбург', 'Казань', \n",
    "        'Нижний Новгород', 'Челябинск', 'Самара', 'Омск', 'Ростов-на-Дону',\n",
    "        'Уфа', 'Красноярск', 'Воронеж', 'Краснодар', 'Пермь', 'Волгоград'\n",
    "    )\n",
    "),\n",
    "yandex_vacancies AS (\n",
    "    SELECT \n",
    "        a.name as area,\n",
    "        COUNT(v.id) as vacancy_count\n",
    "    FROM vacancies v\n",
    "    JOIN employers e ON v.employer_id = e.id\n",
    "    JOIN areas a ON v.area_id = a.id\n",
    "    WHERE e.name = 'Яндекс' AND a.name IN (SELECT name FROM million_cities)\n",
    "    GROUP BY a.name\n",
    "),\n",
    "vacancies_with_order AS (\n",
    "    SELECT area, vacancy_count, 0 as is_total FROM yandex_vacancies\n",
    "    UNION ALL\n",
    "    SELECT 'Total' as area, SUM(vacancy_count), 1 as is_total FROM yandex_vacancies\n",
    ")\n",
    "SELECT area, vacancy_count\n",
    "FROM vacancies_with_order\n",
    "ORDER BY is_total, vacancy_count DESC;\n",
    "\"\"\"\n",
    "\n",
    "result_5_7 = pd.read_sql_query(query_5_7, connection)\n",
    "print(\"5.7. Вакансии Яндекса в городах-миллионниках:\")\n",
    "print(result_5_7)\n",
    "print(f\"\\nКоличество строк в выборке: {len(result_5_7)}\")\n",
    "print(f\"Общее количество вакансий (Total): {result_5_7[result_5_7['area'] == 'Total']['vacancy_count'].iloc[0] if 'Total' in result_5_7['area'].values else 'Нет данных'}\")\n"
   ]
  },
  {
   "cell_type": "code",
   "execution_count": 111,
   "id": "238e16ff",
   "metadata": {},
   "outputs": [
    {
     "name": "stderr",
     "output_type": "stream",
     "text": [
      "C:\\Users\\akins\\AppData\\Local\\Temp\\ipykernel_13000\\1153747207.py:8: UserWarning: pandas only supports SQLAlchemy connectable (engine/connection) or database string URI or sqlite3 DBAPI2 connection. Other DBAPI2 objects are not tested. Please consider using SQLAlchemy.\n",
      "  result_6_1 = pd.read_sql_query(query_6_1, connection)\n"
     ]
    },
    {
     "name": "stdout",
     "output_type": "stream",
     "text": [
      "6.1. Количество вакансий, связанных с данными:\n",
      "   data_vacancies\n",
      "0            1771\n",
      "Ответ: 1771 вакансий\n"
     ]
    }
   ],
   "source": [
    "# Задание 6.1. Сколько вакансий имеет отношение к данным? Считаем, что вакансия имеет отношение к данным, если в ее названии содержатся слова 'data' или 'данн'.\n",
    "query_6_1 = \"\"\"\n",
    "SELECT COUNT(*) as data_vacancies\n",
    "FROM vacancies\n",
    "WHERE LOWER(name) LIKE '%data%' OR LOWER(name) LIKE '%данн%';\n",
    "\"\"\"\n",
    "\n",
    "result_6_1 = pd.read_sql_query(query_6_1, connection)\n",
    "print(\"6.1. Количество вакансий, связанных с данными:\")\n",
    "print(result_6_1)\n",
    "print(f\"Ответ: {result_6_1.iloc[0]['data_vacancies']} вакансий\")\n"
   ]
  },
  {
   "cell_type": "code",
   "execution_count": 112,
   "id": "01e37759",
   "metadata": {},
   "outputs": [
    {
     "name": "stderr",
     "output_type": "stream",
     "text": [
      "C:\\Users\\akins\\AppData\\Local\\Temp\\ipykernel_13000\\4019921765.py:20: UserWarning: pandas only supports SQLAlchemy connectable (engine/connection) or database string URI or sqlite3 DBAPI2 connection. Other DBAPI2 objects are not tested. Please consider using SQLAlchemy.\n",
      "  result_6_2 = pd.read_sql_query(query_6_2, connection)\n"
     ]
    },
    {
     "name": "stdout",
     "output_type": "stream",
     "text": [
      "6.2. Количество вакансий для начинающего дата-сайентиста:\n",
      "   junior_ds_vacancies\n",
      "0                   51\n",
      "Ответ: 51 вакансий\n"
     ]
    }
   ],
   "source": [
    "# Задание 6.2. Сколько есть подходящих вакансий для начинающего дата-сайентиста?\n",
    "query_6_2 = \"\"\"\n",
    "SELECT \n",
    "    COUNT(*) as junior_ds_vacancies\n",
    "FROM vacancies\n",
    "WHERE (\n",
    "    LOWER(name) LIKE '%data scientist%' OR \n",
    "    LOWER(name) LIKE '%data science%' OR \n",
    "    LOWER(name) LIKE '%исследователь данных%' OR \n",
    "    (LOWER(name) LIKE '%ml%' AND LOWER(name) NOT LIKE '%html%') OR \n",
    "    LOWER(name) LIKE '%machine learning%' OR \n",
    "    LOWER(name) LIKE '%машинн%обучен%'\n",
    ") AND (\n",
    "    LOWER(name) LIKE '%junior%' OR \n",
    "    LOWER(experience) = 'нет опыта' OR \n",
    "    LOWER(employment) = 'стажировка'\n",
    ");\n",
    "\"\"\"\n",
    "\n",
    "result_6_2 = pd.read_sql_query(query_6_2, connection)\n",
    "print(\"6.2. Количество вакансий для начинающего дата-сайентиста:\")\n",
    "print(result_6_2)\n",
    "print(f\"Ответ: {result_6_2.iloc[0]['junior_ds_vacancies']} вакансий\")\n"
   ]
  },
  {
   "cell_type": "code",
   "execution_count": 113,
   "id": "f74b9d1d",
   "metadata": {},
   "outputs": [
    {
     "name": "stderr",
     "output_type": "stream",
     "text": [
      "C:\\Users\\akins\\AppData\\Local\\Temp\\ipykernel_13000\\1294782708.py:18: UserWarning: pandas only supports SQLAlchemy connectable (engine/connection) or database string URI or sqlite3 DBAPI2 connection. Other DBAPI2 objects are not tested. Please consider using SQLAlchemy.\n",
      "  result_6_3 = pd.read_sql_query(query_6_3, connection)\n"
     ]
    },
    {
     "name": "stdout",
     "output_type": "stream",
     "text": [
      "6.3. Количество вакансий для DS с навыками SQL или PostgreSQL:\n",
      "   ds_sql_vacancies\n",
      "0               229\n",
      "Ответ: 229 вакансий\n"
     ]
    }
   ],
   "source": [
    "# Задание 6.3. Сколько есть вакансий для DS, в которых в качестве ключевого навыка указан SQL или postgres?\n",
    "query_6_3 = \"\"\"\n",
    "SELECT COUNT(DISTINCT id) as ds_sql_vacancies\n",
    "FROM vacancies\n",
    "WHERE (\n",
    "    LOWER(name) LIKE '%data scientist%' OR \n",
    "    LOWER(name) LIKE '%data science%' OR \n",
    "    LOWER(name) LIKE '%исследователь данных%' OR \n",
    "    (LOWER(name) LIKE '%ml%' AND LOWER(name) NOT LIKE '%html%') OR \n",
    "    LOWER(name) LIKE '%machine learning%' OR \n",
    "    LOWER(name) LIKE '%машинн%обучен%'\n",
    ") AND (\n",
    "    LOWER(key_skills) LIKE '%sql%' OR \n",
    "    LOWER(key_skills) LIKE '%postgres%'\n",
    ");\n",
    "\"\"\"\n",
    "\n",
    "result_6_3 = pd.read_sql_query(query_6_3, connection)\n",
    "print(\"6.3. Количество вакансий для DS с навыками SQL или PostgreSQL:\")\n",
    "print(result_6_3)\n",
    "print(f\"Ответ: {result_6_3.iloc[0]['ds_sql_vacancies']} вакансий\")\n"
   ]
  },
  {
   "cell_type": "code",
   "execution_count": 114,
   "id": "c26e20c0",
   "metadata": {},
   "outputs": [
    {
     "name": "stdout",
     "output_type": "stream",
     "text": [
      "6.4. Количество вакансий для DS с навыком Python:\n",
      "   ds_python_vacancies\n",
      "0                  357\n",
      "Ответ: 357 вакансий\n"
     ]
    },
    {
     "name": "stderr",
     "output_type": "stream",
     "text": [
      "C:\\Users\\akins\\AppData\\Local\\Temp\\ipykernel_13000\\2616420102.py:17: UserWarning: pandas only supports SQLAlchemy connectable (engine/connection) or database string URI or sqlite3 DBAPI2 connection. Other DBAPI2 objects are not tested. Please consider using SQLAlchemy.\n",
      "  result_6_4 = pd.read_sql_query(query_6_4, connection)\n"
     ]
    }
   ],
   "source": [
    "# Задание 6.4. С помощью запроса, аналогичного предыдущему, проверьте, насколько популярен Python в требованиях работодателей к DS. Вычислите количество вакансий, в которых в качестве ключевого навыка указан Python.\n",
    "query_6_4 = \"\"\"\n",
    "SELECT COUNT(DISTINCT id) as ds_python_vacancies\n",
    "FROM vacancies\n",
    "WHERE (\n",
    "    LOWER(name) LIKE '%data scientist%' OR \n",
    "    LOWER(name) LIKE '%data science%' OR \n",
    "    LOWER(name) LIKE '%исследователь данных%' OR \n",
    "    (LOWER(name) LIKE '%ml%' AND LOWER(name) NOT LIKE '%html%') OR\n",
    "    LOWER(name) LIKE '%machine learning%' OR \n",
    "    LOWER(name) LIKE '%машинн%обучен%'\n",
    ") AND (\n",
    "    LOWER(key_skills) LIKE '%python%' \n",
    ");\n",
    "\"\"\"\n",
    "\n",
    "result_6_4 = pd.read_sql_query(query_6_4, connection)\n",
    "print(\"6.4. Количество вакансий для DS с навыком Python:\")\n",
    "print(result_6_4)\n",
    "print(f\"Ответ: {result_6_4.iloc[0]['ds_python_vacancies']} вакансий\")\n"
   ]
  },
  {
   "cell_type": "code",
   "execution_count": 115,
   "id": "d302df36",
   "metadata": {},
   "outputs": [
    {
     "name": "stderr",
     "output_type": "stream",
     "text": [
      "C:\\Users\\akins\\AppData\\Local\\Temp\\ipykernel_13000\\2861084122.py:16: UserWarning: pandas only supports SQLAlchemy connectable (engine/connection) or database string URI or sqlite3 DBAPI2 connection. Other DBAPI2 objects are not tested. Please consider using SQLAlchemy.\n",
      "  result_6_5 = pd.read_sql_query(query_6_5, connection)\n"
     ]
    },
    {
     "name": "stdout",
     "output_type": "stream",
     "text": [
      "6.5. Среднее количество ключевых навыков в вакансиях для DS:\n",
      "   avg_skills_per_vacancy\n",
      "0                    6.41\n",
      "Ответ: 6.41 навыков в среднем\n"
     ]
    }
   ],
   "source": [
    "# Задание 6.5. Сколько ключевых навыков в среднем указывают в вакансиях для DS?\n",
    "query_6_5 = \"\"\"\n",
    "SELECT \n",
    "    ROUND(AVG(LENGTH(key_skills) - LENGTH(REPLACE(key_skills, CHR(9), '')) + 1)::numeric, 2) AS avg_skills_per_vacancy\n",
    "FROM vacancies\n",
    "WHERE (\n",
    "    LOWER(name) LIKE '%data scientist%' OR \n",
    "    LOWER(name) LIKE '%data science%' OR \n",
    "    LOWER(name) LIKE '%исследователь данных%' OR \n",
    "    (name LIKE '%ML%' AND LOWER(name) NOT LIKE '%html%') OR \n",
    "    LOWER(name) LIKE '%machine learning%' OR \n",
    "    LOWER(name) LIKE '%машинн%обучен%'\n",
    ");\n",
    "\"\"\"\n",
    "\n",
    "result_6_5 = pd.read_sql_query(query_6_5, connection)\n",
    "print(\"6.5. Среднее количество ключевых навыков в вакансиях для DS:\")\n",
    "print(result_6_5)\n",
    "print(f\"Ответ: {result_6_5.iloc[0]['avg_skills_per_vacancy']} навыков в среднем\")"
   ]
  },
  {
   "cell_type": "code",
   "execution_count": 116,
   "id": "e9022221",
   "metadata": {},
   "outputs": [
    {
     "name": "stdout",
     "output_type": "stream",
     "text": [
      "6.6. Средняя зарплата для DS по опыту работы:\n",
      "           experience  avg_salary\n",
      "0       От 3 до 6 лет    243115.0\n",
      "1  От 1 года до 3 лет    139675.0\n",
      "2           Нет опыта     74643.0\n",
      "\n",
      "Средняя зарплата для DS с опытом от 3 до 6 лет: 243115.0 руб.\n"
     ]
    },
    {
     "name": "stderr",
     "output_type": "stream",
     "text": [
      "C:\\Users\\akins\\AppData\\Local\\Temp\\ipykernel_13000\\1338599655.py:21: UserWarning: pandas only supports SQLAlchemy connectable (engine/connection) or database string URI or sqlite3 DBAPI2 connection. Other DBAPI2 objects are not tested. Please consider using SQLAlchemy.\n",
      "  result_6_6 = pd.read_sql_query(query_6_6, connection)\n"
     ]
    }
   ],
   "source": [
    "# Задание 6.6. Напишите запрос, позволяющий вычислить, какую зарплату для DS в среднем указывают для каждого типа требуемого опыта (уникальное значение из поля experience).\n",
    "query_6_6 = \"\"\"\n",
    "SELECT \n",
    "    experience, \n",
    "    round(AVG(coalesce((salary_from + salary_to) / 2, salary_from, salary_to)), 0) as avg_salary\n",
    "FROM vacancies\n",
    "WHERE (\n",
    "    LOWER(name) LIKE '%data scientist%' OR \n",
    "    LOWER(name) LIKE '%data science%' OR \n",
    "    LOWER(name) LIKE '%исследователь данных%' OR \n",
    "    (name LIKE '%ML%' AND LOWER(name) NOT LIKE '%html%') OR \n",
    "    LOWER(name) LIKE '%machine learning%' OR \n",
    "    LOWER(name) LIKE '%машинн%обучен%'\n",
    ") AND (\n",
    "    salary_from IS NOT NULL OR salary_to IS NOT NULL\n",
    ")\n",
    "GROUP BY experience\n",
    "ORDER BY avg_salary DESC;\n",
    "\"\"\"\n",
    "\n",
    "result_6_6 = pd.read_sql_query(query_6_6, connection)\n",
    "print(\"6.6. Средняя зарплата для DS по опыту работы:\")\n",
    "print(result_6_6)\n",
    "\n",
    "# Найдем зарплату для опыта от 3 до 6 лет\n",
    "experience_3_6 = result_6_6[result_6_6['experience'] == 'От 3 до 6 лет']\n",
    "if len(experience_3_6) > 0:\n",
    "    print(f\"\\nСредняя зарплата для DS с опытом от 3 до 6 лет: {experience_3_6.iloc[0]['avg_salary']} руб.\")\n",
    "else:\n",
    "    print(\"\\nНет данных для опыта от 3 до 6 лет\")"
   ]
  },
  {
   "cell_type": "markdown",
   "id": "4fab57cf",
   "metadata": {},
   "source": [
    "# Выводы по блокам заданий\n",
    "\n",
    "## Базовые характеристики базы данных (задания 3.1-3.4)\n",
    "- **Общее количество вакансий**: Позволяет оценить масштаб рынка труда. Почти 50 тысяч вакансий, но этот показатель не дает информации о достаточности или избыточности вакансий на рынке труда, необходим комплексный анализ с учетом данных о резюме. По официальным данным в РФ безработных граждан в районе 1,7 млн. человек.\n",
    "- **Количество работодателей**: Показывает разнообразие компаний на рынке (23,5 тысяч работодателей). В РФ на 1 сентября 2025 года в ЕГРЮЛ зарегестрировано 3,2 млн. организаций (без учета ИП), учитывая и общее количество безработных у Hh есть огромные перспективы для развития.\n",
    "- **Количество регионов**: Отражает географическое покрытие вакансий (1,3 тысяч регионов). Данные содержат информацию не о регионах (в РФ 89 регионов), а о населенных пунктах (и не только российских), если учесть, что в РФ их в районе 155 тысяч, то можно предположить, что многие даже не знают что такое рынок труда в целом и Hh в частности\n",
    "- **Количество сфер деятельности**: Демонстрирует разнообразие отраслей (294 отрасли)\n",
    "\n",
    "## Географическое распределение (задания 4.1, 5.1-5.3, 5.7)\n",
    "- **Лидеры по количеству вакансий**: Москва и Санкт-Петербург традиционно лидируют. Вакансии размещены только в 769 регионах (городах). На Москву приходится 10% от общего числа вакансий. 50% вакансий размещены в 12 городах.\n",
    "- **Региональная специфика**: Некоторые регионы могут иметь высокую концентрацию работодателей при низком количестве вакансий. Только в Москве и Санкт-Петербурге на каждого работодателя приходится в среднем по одной вакансии. Далее в среднем на каждого работодателя приходится по 2 и более вакансий, например, в Воронеже на каждого из 292 работодателей приходится почти по 4 вакансии.\n",
    "- **Компании-лидеры**: Крупные IT-компании (Яндекс) представлены в 181 регионе 1933 вакансии, в том числе в городах-миллионниках размещены 485 вакансий. На втором месте Ростелеком - в 152 регионах 492 вакансии.\n",
    "\n",
    "## Анализ зарплат (задания 4.2-4.3, 6.6)\n",
    "- **Заполненность зарплатных данных**: Показывает, какая доля вакансий содержит информацию о зарплате. Только 50% (24 тысячи вакансий) имеют информацию об уровне заработной платы.\n",
    "- **Средние значения**: Дают представление о рыночном уровне оплаты труда. Работодатели в среднем готовы платить от 71 до 111 тыс.руб.\n",
    "- **Специализация по опыту**: Зарплаты Data Science специалистов сильно зависят от опыта работы. Уровень зарплаты специалистов данной сферы выше среднего уровня и с учетом опыта работы составляют от 75 до 243 тыс.руб.\n",
    "\n",
    "## Требования к кандидатам (задания 4.4-4.5, 6.1-6.5)\n",
    "- **Гибкость трудоустройства**: Сочетание графика работы и типа трудоустройства. Больше всего 35 тысяч вакансий требуется работников на полный рабочий день и полную занятость, на втором месте это удаленная работа на полную занятость 8 тысяч вакансий. Самые непопулярные у работодателей сочетания вахтового и сменного графика с проектной работой.\n",
    "- **Опыт работы**: Распределение вакансий по требованиям к опыту. Большинство вакансий (26 тысяч) содержат требования к опыту работы от 1 года до 3 лет. 30% от общего числа вакансий (15 тысяч) для работников с опытом работы от 3 до 6 лет. Кроме того работодатели охотнее ищут соискателей без опыта работы, чем работников с опытом более 6 лет.\n",
    "- **Ключевые навыки**: Популярность SQL, Python и других технологий в Data Science, в среднем такие специалисты должны иметь не менее 6 ключевых навыков. 1771 вакансия связаны с данными и их обработкой, в том числе 51 вакансия для начинающих дата-сайентистов.\n",
    "\n",
    "## Сферы деятельности (задания 5.4-5.6)\n",
    "- **IT-доминирование**: \"Разработка программного обеспечения\" - одна из самых популярных сфер (15% работодателей указали данную сферу деятельности)\n",
    "- **Многопрофильность**: Некоторые компании работают в нескольких сферах одновременно, максимальное количество сфер деятельности для одного работодателя в представленных в данных 5.\n",
    "- **Неполнота данных**: Часть работодателей не указывает сферу деятельности (8 тысяч работодателей)\n"
   ]
  },
  {
   "cell_type": "markdown",
   "id": "26c10410",
   "metadata": {},
   "source": [
    "# Общий вывод по результатам анализа вакансий\n",
    "\n",
    "## Каких вакансий много?\n",
    "1. **IT-вакансии доминируют**: Особенно в сфере разработки программного обеспечения\n",
    "2. **Data Science набирает популярность**: Растет количество вакансий, связанных с анализом данных и машинным обучением\n",
    "3. **Москва и СПб лидируют**: Столичные регионы концентрируют основную массу вакансий\n",
    "4. **Средний опыт работы**: Большинство вакансий требуют опыт от 1 до 3 лет\n",
    "\n",
    "## Рынок труда в различных городах\n",
    "1. **Централизация**: Москва и Санкт-Петербург концентрируют основную часть вакансий\n",
    "2. **Региональные особенности**: Некоторые регионы имеют специфические отрасли\n",
    "3. **Удаленная работа**: Возможность работы из разных регионов расширяет географию поиска\n",
    "4. **Зарплатные различия**: Столичные зарплаты значительно выше региональных\n",
    "\n",
    "## Тенденции и прогнозы\n",
    "1. **Рост Data Science**: Продолжающийся рост спроса на специалистов по данным\n",
    "2. **Гибкость работы**: Увеличение доли удаленной работы и гибких графиков\n",
    "3. **Технологический стек**: Python и SQL остаются ключевыми навыками\n",
    "4. **Опыт vs навыки**: Баланс между требованиями к опыту и техническим навыкам\n"
   ]
  },
  {
   "cell_type": "code",
   "execution_count": 117,
   "id": "da7b454b",
   "metadata": {},
   "outputs": [
    {
     "name": "stdout",
     "output_type": "stream",
     "text": [
      "Соединение с базой данных закрыто.\n"
     ]
    }
   ],
   "source": [
    "# Закрытие соединения с базой данных\n",
    "connection.close()\n",
    "print(\"Соединение с базой данных закрыто.\")\n"
   ]
  }
 ],
 "metadata": {
  "kernelspec": {
   "display_name": "Python 3",
   "language": "python",
   "name": "python3"
  },
  "language_info": {
   "codemirror_mode": {
    "name": "ipython",
    "version": 3
   },
   "file_extension": ".py",
   "mimetype": "text/x-python",
   "name": "python",
   "nbconvert_exporter": "python",
   "pygments_lexer": "ipython3",
   "version": "3.11.9"
  }
 },
 "nbformat": 4,
 "nbformat_minor": 5
}
